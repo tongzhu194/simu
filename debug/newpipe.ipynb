{
 "cells": [
  {
   "cell_type": "code",
   "execution_count": 1,
   "metadata": {},
   "outputs": [
    {
     "name": "stdout",
     "output_type": "stream",
     "text": [
      "Using TensorFlow v2.9.1 and TensorFlow-GNN v0.3.0.dev1\n",
      "GPUs available: []\n"
     ]
    },
    {
     "ename": "ModuleNotFoundError",
     "evalue": "No module named 'knndatap'",
     "output_type": "error",
     "traceback": [
      "\u001b[0;31m---------------------------------------------------------------------------\u001b[0m",
      "\u001b[0;31mModuleNotFoundError\u001b[0m                       Traceback (most recent call last)",
      "\u001b[1;32mUntitled-1.ipynb Cell 1\u001b[0m in \u001b[0;36m<cell line: 23>\u001b[0;34m()\u001b[0m\n\u001b[1;32m     <a href='vscode-notebook-cell:Untitled-1.ipynb?jupyter-notebook#W0sdW50aXRsZWQ%3D?line=19'>20</a>\u001b[0m \u001b[39mprint\u001b[39m(\u001b[39mf\u001b[39m\u001b[39m'\u001b[39m\u001b[39mUsing TensorFlow v\u001b[39m\u001b[39m{\u001b[39;00mtf\u001b[39m.\u001b[39m__version__\u001b[39m}\u001b[39;00m\u001b[39m and TensorFlow-GNN v\u001b[39m\u001b[39m{\u001b[39;00mtfgnn\u001b[39m.\u001b[39m__version__\u001b[39m}\u001b[39;00m\u001b[39m'\u001b[39m)\n\u001b[1;32m     <a href='vscode-notebook-cell:Untitled-1.ipynb?jupyter-notebook#W0sdW50aXRsZWQ%3D?line=20'>21</a>\u001b[0m \u001b[39mprint\u001b[39m(\u001b[39mf\u001b[39m\u001b[39m'\u001b[39m\u001b[39mGPUs available: \u001b[39m\u001b[39m{\u001b[39;00mtf\u001b[39m.\u001b[39mconfig\u001b[39m.\u001b[39mlist_physical_devices(\u001b[39m\"\u001b[39m\u001b[39mGPU\u001b[39m\u001b[39m\"\u001b[39m)\u001b[39m}\u001b[39;00m\u001b[39m'\u001b[39m)\n\u001b[0;32m---> <a href='vscode-notebook-cell:Untitled-1.ipynb?jupyter-notebook#W0sdW50aXRsZWQ%3D?line=22'>23</a>\u001b[0m \u001b[39mimport\u001b[39;00m \u001b[39mknndatap\u001b[39;00m\n",
      "\u001b[0;31mModuleNotFoundError\u001b[0m: No module named 'knndatap'"
     ]
    }
   ],
   "source": [
    "#import pygraphviz as pgv\n",
    "from tqdm import tqdm\n",
    "#from IPython.display import Image\n",
    "\n",
    "import tensorflow as tf\n",
    "tf.get_logger().setLevel('ERROR')\n",
    "\n",
    "import tensorflow_gnn as tfgnn\n",
    "#import tensorflow_datasets as tfds\n",
    "\n",
    "from tensorflow_gnn import runner\n",
    "from tensorflow_gnn.models import gat_v2\n",
    "\n",
    "import networkx as nx\n",
    "import numpy as np\n",
    "\n",
    "#import pandas as pd\n",
    "from pandas import read_parquet as rp\n",
    "\n",
    "print(f'Using TensorFlow v{tf.__version__} and TensorFlow-GNN v{tfgnn.__version__}')\n",
    "print(f'GPUs available: {tf.config.list_physical_devices(\"GPU\")}')\n",
    "\n",
    "import knndatap"
   ]
  },
  {
   "cell_type": "code",
   "execution_count": null,
   "metadata": {},
   "outputs": [],
   "source": [
    "def makeGT(id,counter):\n",
    "    print(\"Generating GraphTensor for this event: ID =\",id)\n",
    "    hit_num = len(simu.loc[id][2]['sensor_pos_x'])+len(simu.loc[id][3]['sensor_pos_x'])\n",
    "    hits = np.array([np.append(simu.loc[id][2]['t'],simu.loc[id][3]['t']),np.append(simu.loc[id][2]['sensor_pos_x'],simu.loc[id][3]['sensor_pos_x']),np.append(simu.loc[id][2]['sensor_pos_y'],simu.loc[id][3]['sensor_pos_y']),np.append(simu.loc[id][2]['sensor_pos_z'],simu.loc[id][3]['sensor_pos_z']),np.append(simu.loc[id][2]['string_id'],simu.loc[id][3]['string_id'])]).transpose()\n",
    " \n",
    "    hits = hits[hits[:,0].argsort()] \n",
    "    ind = []\n",
    "    for i in range(hit_num):\n",
    "        if hits[i,0]<0: ind.append(i)\n",
    "        else:break\n",
    "    hits = np.delete(hits,ind,axis=0)\n",
    "    hit_num = hit_num-len(ind)\n",
    "    #print(f'####:{hit_num}')\n",
    "    if interfilter == True:\n",
    "        eff = np.load(efffile)\n",
    "        map = np.isin(hits[:,4],eff)\n",
    "        hits = hits[map]\n",
    "        hits = hits[:,0:4]\n",
    "        hit_num= len(hits)\n",
    "    else:\n",
    "        hits = hits[:,0:4]\n",
    "    print(\"There is\",hit_num,\"hit(s) in this event.\")\n",
    "    #print(hits)\n",
    "    fenergy = simu.loc[id][1]['injection_energy']\n",
    "    fzenith = simu.loc[id][1]['injection_zenith']\n",
    "    fazimuth = simu.loc[id][1]['injection_azimuth']\n",
    "    feventid = tf.cast(counter,dtype=tf.int64)\n",
    "    fhitnum = tf.cast(hit_num,dtype = tf.int64) \n",
    "    hits_input = hits.flatten()\n",
    "    if(hit_num>1300000):\n",
    "        return 0\n",
    "    stbinding = knndatap.knndatap(hits_input,hit_num)\n",
    "\n",
    "    \n",
    "    if bool(stbinding)==False:\n",
    "        return 0\n",
    "    \n",
    "    tmin = hits[0,0]\n",
    "    tmax = hits[-1,0]\n",
    "    fmean = np.mean(hits,axis=0)\n",
    "    fcc = np.concatenate(([tmin,tmax],fmean),axis = 0)\n",
    "\n",
    "    #print(tmp)\n",
    "    hit_sources = stbinding[1::3]\n",
    "    hit_targets = stbinding[2::3]\n",
    "    metrics = np.array(stbinding[3::3])\n",
    "    metrics= metrics[:,np.newaxis]\n",
    "    #for i in range(5):\n",
    "        #print(hit_sources[i],hit_targets[i])\n",
    "\n",
    "    #print(\"tmp\",len(tmp))\n",
    "    #print('**********')\n",
    "    hit_adjacency = tfgnn.Adjacency.from_indices(source=(\"hit\",tf.cast(hit_sources,dtype=tf.int32)),target=(\"hit\",tf.cast(hit_targets,dtype=tf.int32)))\n",
    "    #print(\"@@@@@@@@@@\")\n",
    "    ###generate GT###\n",
    "    hit = tfgnn.NodeSet.from_fields(\n",
    "        sizes = [hit_num],\n",
    "        features={ \n",
    "            \"4Dvec\":tf.cast(hits,dtype=tf.float32),\n",
    "        })\n",
    "    coincidence = tfgnn.EdgeSet.from_fields(\n",
    "        sizes = tf.shape(hit_sources),\n",
    "        features={\n",
    "            \"metric\": tf.cast(metrics,dtype=tf.float32)\n",
    "        },\n",
    "        adjacency=hit_adjacency)\n",
    "\n",
    "    context = tfgnn.Context.from_fields(\n",
    "        features={\"injection_zenith\":[fzenith],\"event_energy\":[fenergy],\"injection_azimuth\":[fazimuth],\"event_id\":[feventid],\"hit_num\":[fhitnum],\"cc\":tf.cast(fcc,dtype=tf.float32)})\n",
    "\n",
    "    graphtensor = tfgnn.GraphTensor.from_pieces(node_sets={\"hit\":hit},edge_sets={\"coincidence\":coincidence},context=context)\n",
    "    #print(\"%%%%%%%%%%%\")\n",
    "    return graphtensor\n",
    "\n"
   ]
  },
  {
   "cell_type": "code",
   "execution_count": null,
   "metadata": {},
   "outputs": [],
   "source": [
    "\n",
    "\n",
    "##############################\n",
    "counter =0\n",
    "with tf.io.TFRecordWriter('/Users/mac/simu/debug/SAM') as writer:\n",
    "        simulationpath = '/Users/mac/simu/debug/MuMinus_Hadrons_seed_1_meta_data.parquet'\n",
    "        simu = rp(simulationpath)\n",
    "        print(f'#######begin file#######')\n",
    "        for i in range(5000):\n",
    "            graph = makeGT(i,counter)\n",
    "            if graph ==0:\n",
    "                continue\n",
    "            else:\n",
    "                counter+=1\n",
    "                example = tfgnn.write_example(graph)\n",
    "                writer.write(example.SerializeToString())\n",
    "        print(f'Now we have {counter} events in file')\n",
    "\n",
    "#################################\n",
    "print(counter)"
   ]
  }
 ],
 "metadata": {
  "kernelspec": {
   "display_name": "fornn",
   "language": "python",
   "name": "python3"
  },
  "language_info": {
   "codemirror_mode": {
    "name": "ipython",
    "version": 3
   },
   "file_extension": ".py",
   "mimetype": "text/x-python",
   "name": "python",
   "nbconvert_exporter": "python",
   "pygments_lexer": "ipython3",
   "version": "3.9.12"
  },
  "orig_nbformat": 4,
  "vscode": {
   "interpreter": {
    "hash": "1b01611745cc0da356a5618f6566f65cc51d3ef74a1b2ae27fe00c2897111625"
   }
  }
 },
 "nbformat": 4,
 "nbformat_minor": 2
}
